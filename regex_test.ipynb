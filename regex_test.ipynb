{
 "cells": [
  {
   "cell_type": "code",
   "execution_count": 1,
   "metadata": {},
   "outputs": [],
   "source": [
    "import re\n",
    "import pandas as pd\n",
    "df = pd.read_csv(\"KBArticles_test.csv\",encoding=\"ISO-8859-1\")\n",
    "Details = df.Details\n",
    "Details_list=list(Details.values.flatten())\n",
    "result_list = []"
   ]
  },
  {
   "cell_type": "code",
   "execution_count": 2,
   "metadata": {},
   "outputs": [],
   "source": [
    "for detail in Details_list:\n",
    "    m1=re.compile(r\"(\\bSteps Taken To Resolve\\b\\s*\\:?|\\bsteps to resolve\\b\\s*\\:?|\\bsteps to resolution\\b\\s*\\:?|\\bsteps to solution\\b\\s*\\:?|\\bsolution\\b\\s*\\:+|\\bresolution\\b\\s*\\:+|\\bPlease follow the steps below to resolve\\b\\s*\\:?|\\bto resolve\\b\\s*\\:l+|\\bresoluton\\b\\s*\\:+|\\bHere are the instructions to do this\\b\\s*\\:+|\\bPlease follow these instructions carefully\\b\\s*\\:?).*(?=(FOR STAT USE ONLY|sample ticket|ref ticket|\\bexample ticket\\b|\\bticket \\#\\b))|(\\bSteps Taken To Resolve\\b\\s*\\:?|\\bsteps to resolve\\b\\s*\\:?|\\bsteps to resolution\\b\\s*\\:?|\\bsteps to solution\\b\\s*\\:?|\\bsolution\\b\\s*\\:+|\\bresolution\\b\\s*\\:+|\\bPlease follow the steps below to resolve\\b\\s*\\:?|\\bto resolve\\b\\s*\\:+|\\bresoluton\\b\\s*\\:+|\\bHere are the instructions to do this\\b\\s*\\:+|\\bPlease follow these instructions carefully\\b\\s*\\:?).*\",re.DOTALL|re.IGNORECASE)                                    \n",
    "    result=m1.search(detail)\n",
    "    if result:\n",
    "        span=result.span()\n",
    "        length=span[1]-span[0]\n",
    "        if (length>40):\n",
    "            result_list.append(result.group())\n",
    "            #print (\"matchObj.group() : \", result.group())\n",
    "        else:\n",
    "            final_result=re.search(r'(?<=:\\n)(.*)',detail,re.DOTALL)\n",
    "            result_list.append(final_result.group())\n",
    "            #print(result_list)\n",
    "    else:\n",
    "        final_result=re.search(r\"(?<=:\\n)(.*)\",detail,re.DOTALL)\n",
    "        result_list.append(final_result.group())\n",
    "        #print(result_list)\n",
    "    \n",
    "      \n",
    "        #print (\"No match!!\")"
   ]
  },
  {
   "cell_type": "code",
   "execution_count": 3,
   "metadata": {},
   "outputs": [],
   "source": [
    "import csv\n",
    "\n",
    "\n",
    "csvfile = \"output_test.csv\"\n",
    "\n",
    "#Assuming res is a flat list\n",
    "with open(csvfile, \"w\") as output:\n",
    "    writer = csv.writer(output, lineterminator='\\n')\n",
    "    for val in result_list:\n",
    "        writer.writerow([val]) "
   ]
  },
  {
   "cell_type": "code",
   "execution_count": null,
   "metadata": {},
   "outputs": [],
   "source": [
    "result_list = []\n",
    "try:\n",
    "    for detail in details_list:\n",
    "        m1=re.compile(r\"(\\bSteps Taken To Resolve\\b\\s*\\:?|\\bsteps to resolve\\b\\s*\\:?|\\bsteps to resolution\\b\\s*\\:?|\\bsteps to solution\\b\\s*\\:?|\\bsolution\\b\\s*\\:+|\\bresolution\\b\\s*\\:+|\\bPlease follow the steps below to resolve\\b\\s*\\:?|\\bto resolve\\b\\s*\\:l+|\\bresoluton\\b\\s*\\:+|\\bHere are the instructions to do this\\b\\s*\\:+|\\bPlease follow these instructions carefully\\b\\s*\\:?).*(?=(FOR STAT USE ONLY|sample ticket|ref ticket|\\bexample ticket\\b|\\bticket \\#\\b))|(\\bSteps Taken To Resolve\\b\\s*\\:?|\\bsteps to resolve\\b\\s*\\:?|\\bsteps to resolution\\b\\s*\\:?|\\bsteps to solution\\b\\s*\\:?|\\bsolution\\b\\s*\\:+|\\bresolution\\b\\s*\\:+|\\bPlease follow the steps below to resolve\\b\\s*\\:?|\\bto resolve\\b\\s*\\:+|\\bresoluton\\b\\s*\\:+|\\bHere are the instructions to do this\\b\\s*\\:+|\\bPlease follow these instructions carefully\\b\\s*\\:?).*\",re.DOTALL|re.IGNORECASE)                                    \n",
    "        result=m1.search(detail)\n",
    "        if result:\n",
    "            span=result.span()\n",
    "            length=span[1]-span[0]\n",
    "            if (length>40):\n",
    "                result_list.append(result.group())\n",
    "                #print (\"matchObj.group() : \", result.group())\n",
    "            else:\n",
    "                final_result=re.search(r'(?<=:\\n)(.*)',detail,re.DOTALL)\n",
    "                result_list.append(final_result.group())\n",
    "                #print(result_list)\n",
    "        else:\n",
    "            final_result=re.search(r\"(?<=:\\n)(.*)\",detail,re.DOTALL)\n",
    "            result_list.append(final_result.group())\n",
    "    return result_list\n",
    "except Exception as error:\n",
    "        print(error)\n",
    "return None"
   ]
  }
 ],
 "metadata": {
  "kernelspec": {
   "display_name": "Python 3",
   "language": "python",
   "name": "python3"
  },
  "language_info": {
   "codemirror_mode": {
    "name": "ipython",
    "version": 3
   },
   "file_extension": ".py",
   "mimetype": "text/x-python",
   "name": "python",
   "nbconvert_exporter": "python",
   "pygments_lexer": "ipython3",
   "version": "3.5.2"
  }
 },
 "nbformat": 4,
 "nbformat_minor": 2
}
